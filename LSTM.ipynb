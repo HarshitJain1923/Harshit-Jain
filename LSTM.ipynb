{
 "cells": [
  {
   "cell_type": "code",
   "execution_count": 17,
   "id": "5802773d-b0ec-4935-a7ed-fd696316dc5d",
   "metadata": {},
   "outputs": [],
   "source": [
    "import numpy as np\n",
    "import torch\n",
    "import torch.nn as nn\n",
    "import torch.optim as optim\n",
    "import pandas as pd\n",
    "import matplotlib.pyplot as plt\n",
    "from torch.utils.data import Dataset, DataLoader\n",
    "from tqdm import tqdm\n",
    "device = torch.device(\"cuda\" if torch.cuda.is_available() else \"cpu\")"
   ]
  },
  {
   "cell_type": "code",
   "execution_count": 5,
   "id": "2a325a1d-03fa-44a0-9035-1d9fcf097cd3",
   "metadata": {},
   "outputs": [],
   "source": [
    "def sine_wave(num_samples , t ):\n",
    "    x = np.zeros(shape = [num_samples , t])\n",
    "    y = np.zeros(shape = [num_samples , t])\n",
    "    for i in range(num_samples) : \n",
    "        seq = np.sin(np.linspace(2*i*np.pi  , 2*(i+1)*np.pi , t+1) )\n",
    "        x[i][:] = seq[:-1]\n",
    "        y[i][:] = seq[1:]\n",
    "    return x , y    "
   ]
  },
  {
   "cell_type": "code",
   "execution_count": 6,
   "id": "0f9f4b23-0438-4a37-8004-f113f014c952",
   "metadata": {},
   "outputs": [],
   "source": [
    "class SineWaveDataset(Dataset):\n",
    "    def __init__(self, num_samples, t):\n",
    "        self.x, self.y = sine_wave(num_samples, t)\n",
    "    def __len__(self):\n",
    "        return len(self.x)\n",
    "    def __getitem__(self, idx):\n",
    "        return torch.tensor(self.x[idx], dtype=torch.float32), torch.tensor(self.y[idx], dtype=torch.float32)\n",
    "num_samples = 1000\n",
    "t = 50\n",
    "batch_size = 32\n",
    "\n",
    "dataset = SineWaveDataset(num_samples, t)\n",
    "dataloader = DataLoader(dataset, batch_size=batch_size, shuffle=True)"
   ]
  },
  {
   "cell_type": "code",
   "execution_count": 36,
   "id": "fbeaace8-27d7-4fce-ad38-cb7bd3900a4c",
   "metadata": {},
   "outputs": [],
   "source": [
    "class LSTM(nn.Module):\n",
    "    def __init__(self,input_size , hidden_size ,output_size):\n",
    "        super().__init__() \n",
    "        self.input_size = input_size;\n",
    "        self.hidden_size = hidden_size;\n",
    "        self.output_size = output_size;\n",
    "        self.W_f = nn.Parameter(torch.Tensor(input_size+hidden_size,hidden_size));\n",
    "        self.W_u= nn.Parameter(torch.Tensor(input_size+hidden_size,hidden_size));\n",
    "        self.W_c= nn.Parameter(torch.Tensor(input_size+hidden_size,hidden_size));\n",
    "        self.W_o =nn.Parameter(torch.Tensor(hidden_size+input_size,output_size));\n",
    "        self.b_f  = nn.Parameter(torch.zeros(hidden_size))\n",
    "        self.b_u  = nn.Parameter(torch.zeros(output_size))\n",
    "        self.b_o  = nn.Parameter(torch.zeros(output_size))\n",
    "        self.b_c  = nn.Parameter(torch.zeros(output_size))\n",
    "        self.fc = nn.Linear(hidden_size, output_size)\n",
    "        nn.init.xavier_uniform_(self.W_f)\n",
    "        nn.init.xavier_uniform_(self.W_u)\n",
    "        nn.init.xavier_uniform_(self.W_o)\n",
    "        nn.init.xavier_uniform_(self.W_c)\n",
    "\n",
    "\n",
    "    def forward(self,X,hidden_state = None ,cell_state = None):\n",
    "        batch_size,len_seq,input_size = X.size()\n",
    "        outputs = torch.zeros(batch_size, len_seq, self.output_size)\n",
    "        if(hidden_state == None) :\n",
    "            hidden_state = torch.zeros(batch_size,self.hidden_size)\n",
    "        if(cell_state == None) :\n",
    "            cell_state = hidden_state\n",
    "        for t in range(len_seq):\n",
    "            x_t = X[:,t,:]\n",
    "            combined = torch.cat((x_t,hidden_state),dim=1)\n",
    "            forget = torch.matmul(combined,self.W_f) + self.b_f\n",
    "            forget = torch.sigmoid(forget)\n",
    "            update = torch.matmul(combined,self.W_u)+self.b_u\n",
    "            update = torch.sigmoid(update)\n",
    "            output_gate = torch.matmul(combined,self.W_o) + self.b_o\n",
    "            output_gate = torch.sigmoid(output_gate)\n",
    "            candidate = torch.tanh(torch.matmul(combined,self.W_c)+self.b_c)\n",
    "            cell_state = forget*cell_state + update*candidate\n",
    "            hidden_state = output_gate*torch.tanh(cell_state)\n",
    "            y_t = self.fc(hidden_state)\n",
    "            outputs[:, t, :] = y_t\n",
    "        return outputs    \n",
    "                   \n",
    "   "
   ]
  },
  {
   "cell_type": "code",
   "execution_count": 62,
   "id": "e9883bc4-35af-40e1-adef-699181d122c6",
   "metadata": {},
   "outputs": [],
   "source": [
    "batch_size = 32\n",
    "hidden_size = 32\n",
    "model = LSTM(1,32,1)\n",
    "loss_fn = nn.MSELoss()\n",
    "optimizer = torch.optim.Adam(model.parameters(),lr=0.0001)"
   ]
  },
  {
   "cell_type": "code",
   "execution_count": 63,
   "id": "af31fbc5-b62b-4b59-be0c-6061647b30de",
   "metadata": {
    "scrolled": true
   },
   "outputs": [
    {
     "name": "stderr",
     "output_type": "stream",
     "text": [
      "Epoch 1/10:  59%|█████████████████████████████████████████▌                            | 19/32 [00:00<00:00, 32.79it/s]"
     ]
    },
    {
     "name": "stdout",
     "output_type": "stream",
     "text": [
      "Step[15/32].:  Loss: 0.4852\n"
     ]
    },
    {
     "name": "stderr",
     "output_type": "stream",
     "text": [
      "Epoch 1/10: 100%|██████████████████████████████████████████████████████████████████████| 32/32 [00:00<00:00, 33.25it/s]\n"
     ]
    },
    {
     "name": "stdout",
     "output_type": "stream",
     "text": [
      "Step[30/32].:  Loss: 0.4741\n",
      "Epoch 1/10 - Average Loss: 0.4841\n"
     ]
    },
    {
     "name": "stderr",
     "output_type": "stream",
     "text": [
      "Epoch 2/10:  69%|████████████████████████████████████████████████▏                     | 22/32 [00:00<00:00, 36.98it/s]"
     ]
    },
    {
     "name": "stdout",
     "output_type": "stream",
     "text": [
      "Step[15/32].:  Loss: 0.4615\n"
     ]
    },
    {
     "name": "stderr",
     "output_type": "stream",
     "text": [
      "Epoch 2/10: 100%|██████████████████████████████████████████████████████████████████████| 32/32 [00:00<00:00, 36.59it/s]\n"
     ]
    },
    {
     "name": "stdout",
     "output_type": "stream",
     "text": [
      "Step[30/32].:  Loss: 0.4502\n",
      "Epoch 2/10 - Average Loss: 0.4603\n"
     ]
    },
    {
     "name": "stderr",
     "output_type": "stream",
     "text": [
      "Epoch 3/10:  69%|████████████████████████████████████████████████▏                     | 22/32 [00:00<00:00, 40.65it/s]"
     ]
    },
    {
     "name": "stdout",
     "output_type": "stream",
     "text": [
      "Step[15/32].:  Loss: 0.4371\n"
     ]
    },
    {
     "name": "stderr",
     "output_type": "stream",
     "text": [
      "Epoch 3/10: 100%|██████████████████████████████████████████████████████████████████████| 32/32 [00:00<00:00, 40.46it/s]\n"
     ]
    },
    {
     "name": "stdout",
     "output_type": "stream",
     "text": [
      "Step[30/32].:  Loss: 0.4253\n",
      "Epoch 3/10 - Average Loss: 0.4359\n"
     ]
    },
    {
     "name": "stderr",
     "output_type": "stream",
     "text": [
      "Epoch 4/10:  62%|███████████████████████████████████████████▊                          | 20/32 [00:00<00:00, 44.17it/s]"
     ]
    },
    {
     "name": "stdout",
     "output_type": "stream",
     "text": [
      "Step[15/32].:  Loss: 0.4114\n"
     ]
    },
    {
     "name": "stderr",
     "output_type": "stream",
     "text": [
      "Epoch 4/10: 100%|██████████████████████████████████████████████████████████████████████| 32/32 [00:00<00:00, 43.32it/s]\n"
     ]
    },
    {
     "name": "stdout",
     "output_type": "stream",
     "text": [
      "Step[30/32].:  Loss: 0.3986\n",
      "Epoch 4/10 - Average Loss: 0.4100\n"
     ]
    },
    {
     "name": "stderr",
     "output_type": "stream",
     "text": [
      "Epoch 5/10:  62%|███████████████████████████████████████████▊                          | 20/32 [00:00<00:00, 44.27it/s]"
     ]
    },
    {
     "name": "stdout",
     "output_type": "stream",
     "text": [
      "Step[15/32].:  Loss: 0.3834\n"
     ]
    },
    {
     "name": "stderr",
     "output_type": "stream",
     "text": [
      "Epoch 5/10: 100%|██████████████████████████████████████████████████████████████████████| 32/32 [00:00<00:00, 42.47it/s]\n"
     ]
    },
    {
     "name": "stdout",
     "output_type": "stream",
     "text": [
      "Step[30/32].:  Loss: 0.3693\n",
      "Epoch 5/10 - Average Loss: 0.3819\n"
     ]
    },
    {
     "name": "stderr",
     "output_type": "stream",
     "text": [
      "Epoch 6/10:  62%|███████████████████████████████████████████▊                          | 20/32 [00:00<00:00, 43.85it/s]"
     ]
    },
    {
     "name": "stdout",
     "output_type": "stream",
     "text": [
      "Step[15/32].:  Loss: 0.3523\n"
     ]
    },
    {
     "name": "stderr",
     "output_type": "stream",
     "text": [
      "Epoch 6/10: 100%|██████████████████████████████████████████████████████████████████████| 32/32 [00:00<00:00, 42.46it/s]\n"
     ]
    },
    {
     "name": "stdout",
     "output_type": "stream",
     "text": [
      "Step[30/32].:  Loss: 0.3365\n",
      "Epoch 6/10 - Average Loss: 0.3506\n"
     ]
    },
    {
     "name": "stderr",
     "output_type": "stream",
     "text": [
      "Epoch 7/10:  62%|███████████████████████████████████████████▊                          | 20/32 [00:00<00:00, 42.02it/s]"
     ]
    },
    {
     "name": "stdout",
     "output_type": "stream",
     "text": [
      "Step[15/32].:  Loss: 0.3176\n"
     ]
    },
    {
     "name": "stderr",
     "output_type": "stream",
     "text": [
      "Epoch 7/10: 100%|██████████████████████████████████████████████████████████████████████| 32/32 [00:00<00:00, 42.34it/s]\n"
     ]
    },
    {
     "name": "stdout",
     "output_type": "stream",
     "text": [
      "Step[30/32].:  Loss: 0.3004\n",
      "Epoch 7/10 - Average Loss: 0.3159\n"
     ]
    },
    {
     "name": "stderr",
     "output_type": "stream",
     "text": [
      "Epoch 8/10:  62%|███████████████████████████████████████████▊                          | 20/32 [00:00<00:00, 42.63it/s]"
     ]
    },
    {
     "name": "stdout",
     "output_type": "stream",
     "text": [
      "Step[15/32].:  Loss: 0.2811\n"
     ]
    },
    {
     "name": "stderr",
     "output_type": "stream",
     "text": [
      "Epoch 8/10: 100%|██████████████████████████████████████████████████████████████████████| 32/32 [00:00<00:00, 42.91it/s]\n"
     ]
    },
    {
     "name": "stdout",
     "output_type": "stream",
     "text": [
      "Step[30/32].:  Loss: 0.2652\n",
      "Epoch 8/10 - Average Loss: 0.2797\n"
     ]
    },
    {
     "name": "stderr",
     "output_type": "stream",
     "text": [
      "Epoch 9/10:  62%|███████████████████████████████████████████▊                          | 20/32 [00:00<00:00, 42.34it/s]"
     ]
    },
    {
     "name": "stdout",
     "output_type": "stream",
     "text": [
      "Step[15/32].:  Loss: 0.2492\n"
     ]
    },
    {
     "name": "stderr",
     "output_type": "stream",
     "text": [
      "Epoch 9/10: 100%|██████████████████████████████████████████████████████████████████████| 32/32 [00:00<00:00, 42.37it/s]\n"
     ]
    },
    {
     "name": "stdout",
     "output_type": "stream",
     "text": [
      "Step[30/32].:  Loss: 0.2361\n",
      "Epoch 9/10 - Average Loss: 0.2480\n"
     ]
    },
    {
     "name": "stderr",
     "output_type": "stream",
     "text": [
      "Epoch 10/10:  62%|███████████████████████████████████████████▏                         | 20/32 [00:00<00:00, 41.63it/s]"
     ]
    },
    {
     "name": "stdout",
     "output_type": "stream",
     "text": [
      "Step[15/32].:  Loss: 0.2217\n"
     ]
    },
    {
     "name": "stderr",
     "output_type": "stream",
     "text": [
      "Epoch 10/10: 100%|█████████████████████████████████████████████████████████████████████| 32/32 [00:00<00:00, 42.44it/s]"
     ]
    },
    {
     "name": "stdout",
     "output_type": "stream",
     "text": [
      "Step[30/32].:  Loss: 0.2090\n",
      "Epoch 10/10 - Average Loss: 0.2204\n"
     ]
    },
    {
     "name": "stderr",
     "output_type": "stream",
     "text": [
      "\n"
     ]
    }
   ],
   "source": [
    "num_epochs = 10\n",
    "for epoch in range(num_epochs) :\n",
    "    model.train()\n",
    "    running_loss = 0.0\n",
    "    for i , (x_batch,y_batch) in enumerate(tqdm(dataloader,desc = f\"Epoch {epoch+1}/{num_epochs}\")):\n",
    "        x_batch = x_batch.unsqueeze(-1)\n",
    "        hidden_state = torch.zeros(x_batch.size()[0],hidden_size)\n",
    "        cell_state = hidden_state\n",
    "        y_pred = model(x_batch,hidden_state,cell_state)\n",
    "        y_pred = y_pred.squeeze(-1)\n",
    "        loss = loss_fn(y_pred,y_batch)\n",
    "        running_loss += loss\n",
    "        optimizer.zero_grad()\n",
    "        loss.backward()\n",
    "        optimizer.step()\n",
    "        if (i+1)%15== 0 :\n",
    "            print(f\"Step[{i+1}/{len(dataloader)}].:  Loss: {loss.item():.4f}\")\n",
    "    print(f\"Epoch {epoch+1}/{num_epochs} - Average Loss: {running_loss / len(dataloader):.4f}\")        \n",
    "        \n",
    "        "
   ]
  },
  {
   "cell_type": "code",
   "execution_count": 64,
   "id": "35bf29df-f9c2-47a4-aa60-057f7bfdffb2",
   "metadata": {},
   "outputs": [
    {
     "name": "stdout",
     "output_type": "stream",
     "text": [
      "torch.Size([1, 50, 1])\n",
      "Predicted output: tensor([[-0.1273, -0.1204, -0.1052, -0.0798, -0.0431,  0.0048,  0.0630,  0.1296,\n",
      "          0.2020,  0.2771,  0.3512,  0.4206,  0.4818,  0.5316,  0.5679,  0.5897,\n",
      "          0.5967,  0.5898,  0.5698,  0.5376,  0.4942,  0.4402,  0.3766,  0.3046,\n",
      "          0.2263,  0.1441,  0.0614, -0.0180, -0.0909, -0.1545, -0.2077, -0.2505,\n",
      "         -0.2838, -0.3091, -0.3280, -0.3419, -0.3522, -0.3597, -0.3652, -0.3691,\n",
      "         -0.3717, -0.3730, -0.3730, -0.3714, -0.3678, -0.3616, -0.3522, -0.3389,\n",
      "         -0.3208, -0.2971]])\n"
     ]
    }
   ],
   "source": [
    "\n",
    "x,y = dataset[0]\n",
    "x,y\n",
    "model.eval()\n",
    "with torch.no_grad():\n",
    "    x = x.unsqueeze(0).unsqueeze(-1)  \n",
    "    print(x.shape)  \n",
    "    # hidden_state = torch.zeros(x.size(0), 32)  \n",
    "    y_pred = model(x)\n",
    "    y_pred = y_pred.squeeze(-1)\n",
    "print(\"Predicted output:\", y_pred)"
   ]
  },
  {
   "cell_type": "code",
   "execution_count": 65,
   "id": "08fd58a9-2226-43cf-b6dd-2b5774bdabab",
   "metadata": {},
   "outputs": [
    {
     "data": {
      "image/png": "[encoded data removed]",
      "text/plain": [
       "<Figure size 700x700 with 1 Axes>"
      ]
     },
     "metadata": {},
     "output_type": "display_data"
    }
   ],
   "source": [
    "plt.figure(figsize=(7,7))\n",
    "plt.plot(y, label='True')\n",
    "plt.plot(y_pred[0], label='Predicted')\n",
    "plt.legend()\n",
    "plt.show()\n"
   ]
  },
  {
   "cell_type": "code",
   "execution_count": null,
   "id": "b83fcecd-79b9-4449-bfa3-ce7bebd807a7",
   "metadata": {},
   "outputs": [],
   "source": []
  },
  {
   "cell_type": "code",
   "execution_count": null,
   "id": "f0f7fe97-0f18-437f-9dc3-1de1f40f1182",
   "metadata": {},
   "outputs": [],
   "source": []
  },
  {
   "cell_type": "code",
   "execution_count": null,
   "id": "a9476cc6-6297-43a0-b247-818cc7930982",
   "metadata": {},
   "outputs": [],
   "source": []
  },
  {
   "cell_type": "code",
   "execution_count": null,
   "id": "e47a9476-e8b0-4b2b-b868-bdaa4e534a44",
   "metadata": {},
   "outputs": [],
   "source": []
  }
 ],
 "metadata": {
  "kernelspec": {
   "display_name": "Python 3 (ipykernel)",
   "language": "python",
   "name": "python3"
  },
  "language_info": {
   "codemirror_mode": {
    "name": "ipython",
    "version": 3
   },
   "file_extension": ".py",
   "mimetype": "text/x-python",
   "name": "python",
   "nbconvert_exporter": "python",
   "pygments_lexer": "ipython3",
   "version": "3.12.3"
  }
 },
 "nbformat": 4,
 "nbformat_minor": 5
}
