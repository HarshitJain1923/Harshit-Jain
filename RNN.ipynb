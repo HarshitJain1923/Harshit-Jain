{
 "cells": [
  {
   "cell_type": "code",
   "execution_count": 14,
   "id": "11c4da51-65b9-4e3f-86f9-680733cb3c32",
   "metadata": {},
   "outputs": [],
   "source": [
    "import numpy as np\n",
    "import torch\n",
    "import torch.nn as nn\n",
    "import torch.optim as optim\n",
    "import pandas as pd\n",
    "import matplotlib.pyplot as plt\n",
    "from torch.utils.data import Dataset, DataLoader\n",
    "device = torch.device(\"cuda\" if torch.cuda.is_available() else \"cpu\")"
   ]
  },
  {
   "cell_type": "code",
   "execution_count": 15,
   "id": "9c6aa2cb-4de1-4fc8-b2ec-bdb373d210cf",
   "metadata": {},
   "outputs": [],
   "source": [
    "def sine_wave(num_samples , t ):\n",
    "    x = np.zeros(shape = [num_samples , t])\n",
    "    y = np.zeros(shape = [num_samples , t])\n",
    "    for i in range(num_samples) : \n",
    "        seq = np.sin(np.linspace(2*i*np.pi  , 2*(i+1)*np.pi , t+1) )\n",
    "        x[i][:] = seq[:-1]\n",
    "        y[i][:] = seq[1:]\n",
    "    return x , y    "
   ]
  },
  {
   "cell_type": "code",
   "execution_count": 23,
   "id": "44768b27-c2a5-4315-9e40-bc7f3611f282",
   "metadata": {},
   "outputs": [],
   "source": [
    "class SineWaveDataset(Dataset):\n",
    "    def __init__(self, num_samples, t):\n",
    "        self.x, self.y = sine_wave(num_samples, t)\n",
    "    def __len__(self):\n",
    "        return len(self.x)\n",
    "    def __getitem__(self, idx):\n",
    "        return torch.tensor(self.x[idx], dtype=torch.float32), torch.tensor(self.y[idx], dtype=torch.float32)\n",
    "num_samples = 500\n",
    "t = 50\n",
    "batch_size = 32\n",
    "\n",
    "dataset = SineWaveDataset(num_samples, t)\n",
    "dataloader = DataLoader(dataset, batch_size=batch_size, shuffle=True)"
   ]
  },
  {
   "cell_type": "code",
   "execution_count": 24,
   "id": "af60179f-c961-4791-af0a-86d50b3add2e",
   "metadata": {},
   "outputs": [],
   "source": [
    "class Rnn(nn.Module) :\n",
    "    def __init__(self,input_size , hidden_size ,output_size):\n",
    "        super().__init__() \n",
    "        self.input_size = input_size;\n",
    "        self.hidden_size = hidden_size;\n",
    "        self.output_size = output_size;\n",
    "        self.W_ax = nn.Parameter(torch.Tensor(input_size,hidden_size));\n",
    "        self.W_aa = nn.Parameter(torch.Tensor(hidden_size,hidden_size));\n",
    "        self.W_ya = nn.Parameter(torch.Tensor(hidden_size,output_size));\n",
    "        self.b_a  = nn.Parameter(torch.zeros(hidden_size))\n",
    "        self.b_y  = nn.Parameter(torch.zeros(output_size))\n",
    "        nn.init.xavier_uniform_(self.W_ax)\n",
    "        nn.init.xavier_uniform_(self.W_aa)\n",
    "        nn.init.xavier_uniform_(self.W_ya)\n",
    "    def forward(self ,X,hidden_state  = None):\n",
    "        batch_size , len_seq ,_ = X.size()\n",
    "        if (hidden_state == None) :\n",
    "            hidden_state = torch.zeros(X.size()[0], self.hidden_size)\n",
    "        outputs = torch.zeros(batch_size, len_seq, self.output_size)\n",
    "        for t in range(len_seq):\n",
    "            x_t = X[:, t , :]\n",
    "            x_a = torch.matmul(x_t, self.W_ax) \n",
    "    \n",
    "            a_a = torch.matmul(hidden_state, self.W_aa) \n",
    "            hidden_state = torch.tanh(x_a + a_a + self.b_a)\n",
    "            y_t = torch.matmul(hidden_state, self.W_ya) + self.b_y\n",
    "            outputs[:, t, :] = y_t\n",
    "        # print(outputs.shape)\n",
    "        return outputs , hidden_state\n",
    "    "
   ]
  },
  {
   "cell_type": "code",
   "execution_count": 25,
   "id": "f7c470fb-bdd0-435e-b36a-a1120d2e6b12",
   "metadata": {},
   "outputs": [],
   "source": [
    "batch_size = 32\n",
    "hidden_size = 32\n",
    "model = Rnn(1,32,1)\n",
    "loss_fn = nn.MSELoss()\n",
    "optimizer = torch.optim.Adam(model.parameters(),lr=0.001)"
   ]
  },
  {
   "cell_type": "code",
   "execution_count": 34,
   "id": "eaa0311a-f2f0-4d87-848b-dce4fee23499",
   "metadata": {
    "scrolled": true
   },
   "outputs": [
    {
     "name": "stderr",
     "output_type": "stream",
     "text": [
      "Epoch 1/3: 100%|███████████████████████████████████████████████████████████████████████| 16/16 [00:00<00:00, 89.19it/s]\n"
     ]
    },
    {
     "name": "stdout",
     "output_type": "stream",
     "text": [
      "Step[2/16].:  Loss: 0.0053\n",
      "Step[4/16].:  Loss: 0.0049\n",
      "Step[6/16].:  Loss: 0.0045\n",
      "Step[8/16].:  Loss: 0.0041\n",
      "Step[10/16].:  Loss: 0.0039\n",
      "Step[12/16].:  Loss: 0.0037\n",
      "Step[14/16].:  Loss: 0.0035\n",
      "Step[16/16].:  Loss: 0.0033\n",
      "Epoch 1/3 - Average Loss: 0.0042\n"
     ]
    },
    {
     "name": "stderr",
     "output_type": "stream",
     "text": [
      "Epoch 2/3:   0%|                                                                                | 0/16 [00:00<?, ?it/s]"
     ]
    },
    {
     "name": "stdout",
     "output_type": "stream",
     "text": [
      "Step[2/16].:  Loss: 0.0030\n"
     ]
    },
    {
     "name": "stderr",
     "output_type": "stream",
     "text": [
      "Epoch 2/3: 100%|███████████████████████████████████████████████████████████████████████| 16/16 [00:00<00:00, 83.31it/s]\n"
     ]
    },
    {
     "name": "stdout",
     "output_type": "stream",
     "text": [
      "Step[4/16].:  Loss: 0.0029\n",
      "Step[6/16].:  Loss: 0.0027\n",
      "Step[8/16].:  Loss: 0.0025\n",
      "Step[10/16].:  Loss: 0.0024\n",
      "Step[12/16].:  Loss: 0.0022\n",
      "Step[14/16].:  Loss: 0.0021\n",
      "Step[16/16].:  Loss: 0.0020\n",
      "Epoch 2/3 - Average Loss: 0.0025\n"
     ]
    },
    {
     "name": "stderr",
     "output_type": "stream",
     "text": [
      "Epoch 3/3:   0%|                                                                                | 0/16 [00:00<?, ?it/s]"
     ]
    },
    {
     "name": "stdout",
     "output_type": "stream",
     "text": [
      "Step[2/16].:  Loss: 0.0019\n",
      "Step[4/16].:  Loss: 0.0017\n"
     ]
    },
    {
     "name": "stderr",
     "output_type": "stream",
     "text": [
      "Epoch 3/3: 100%|███████████████████████████████████████████████████████████████████████| 16/16 [00:00<00:00, 89.66it/s]"
     ]
    },
    {
     "name": "stdout",
     "output_type": "stream",
     "text": [
      "Step[6/16].:  Loss: 0.0017\n",
      "Step[8/16].:  Loss: 0.0016\n",
      "Step[10/16].:  Loss: 0.0015\n",
      "Step[12/16].:  Loss: 0.0014\n",
      "Step[14/16].:  Loss: 0.0013\n",
      "Step[16/16].:  Loss: 0.0013\n",
      "Epoch 3/3 - Average Loss: 0.0016\n"
     ]
    },
    {
     "name": "stderr",
     "output_type": "stream",
     "text": [
      "\n"
     ]
    }
   ],
   "source": [
    "from tqdm import tqdm\n",
    "t = 50\n",
    "num_epochs = 3\n",
    "\n",
    "for epoch in range(num_epochs):\n",
    "    model.train()\n",
    "    running_loss = 0.0\n",
    "    for i, (x_batch, y_batch) in enumerate(tqdm(dataloader, desc=f'Epoch {epoch+1}/{num_epochs}')):\n",
    "        x_batch = x_batch.unsqueeze(dim=-1) \n",
    "        hidden_state = torch.zeros(x_batch.size()[0], hidden_size)\n",
    "        y_pred, _ = model(x_batch, hidden_state)\n",
    "        y_pred = y_pred.squeeze(-1)\n",
    "        loss = loss_fn(y_pred, y_batch)\n",
    "        running_loss += loss.item()\n",
    "        optimizer.zero_grad()\n",
    "        loss.backward()\n",
    "        optimizer.step()\n",
    "        \n",
    "        if (i + 1) % 2 == 0:\n",
    "            print(f\"Step[{i+1}/{len(dataloader)}].:  Loss: {loss.item():.4f}\")\n",
    "    \n",
    "    print(f\"Epoch {epoch+1}/{num_epochs} - Average Loss: {running_loss / len(dataloader):.4f}\")\n"
   ]
  },
  {
   "cell_type": "code",
   "execution_count": 35,
   "id": "df67a8c1-4dad-4843-ad37-379684e7b889",
   "metadata": {
    "scrolled": true
   },
   "outputs": [
    {
     "data": {
      "text/plain": [
       "(tensor([ 0.0000e+00,  1.2533e-01,  2.4869e-01,  3.6812e-01,  4.8175e-01,\n",
       "          5.8779e-01,  6.8455e-01,  7.7051e-01,  8.4433e-01,  9.0483e-01,\n",
       "          9.5106e-01,  9.8229e-01,  9.9803e-01,  9.9803e-01,  9.8229e-01,\n",
       "          9.5106e-01,  9.0483e-01,  8.4433e-01,  7.7051e-01,  6.8455e-01,\n",
       "          5.8779e-01,  4.8175e-01,  3.6812e-01,  2.4869e-01,  1.2533e-01,\n",
       "         -3.2162e-16, -1.2533e-01, -2.4869e-01, -3.6812e-01, -4.8175e-01,\n",
       "         -5.8779e-01, -6.8455e-01, -7.7051e-01, -8.4433e-01, -9.0483e-01,\n",
       "         -9.5106e-01, -9.8229e-01, -9.9803e-01, -9.9803e-01, -9.8229e-01,\n",
       "         -9.5106e-01, -9.0483e-01, -8.4433e-01, -7.7051e-01, -6.8455e-01,\n",
       "         -5.8779e-01, -4.8175e-01, -3.6812e-01, -2.4869e-01, -1.2533e-01]),\n",
       " tensor([ 1.2533e-01,  2.4869e-01,  3.6812e-01,  4.8175e-01,  5.8779e-01,\n",
       "          6.8455e-01,  7.7051e-01,  8.4433e-01,  9.0483e-01,  9.5106e-01,\n",
       "          9.8229e-01,  9.9803e-01,  9.9803e-01,  9.8229e-01,  9.5106e-01,\n",
       "          9.0483e-01,  8.4433e-01,  7.7051e-01,  6.8455e-01,  5.8779e-01,\n",
       "          4.8175e-01,  3.6812e-01,  2.4869e-01,  1.2533e-01, -3.2162e-16,\n",
       "         -1.2533e-01, -2.4869e-01, -3.6812e-01, -4.8175e-01, -5.8779e-01,\n",
       "         -6.8455e-01, -7.7051e-01, -8.4433e-01, -9.0483e-01, -9.5106e-01,\n",
       "         -9.8229e-01, -9.9803e-01, -9.9803e-01, -9.8229e-01, -9.5106e-01,\n",
       "         -9.0483e-01, -8.4433e-01, -7.7051e-01, -6.8455e-01, -5.8779e-01,\n",
       "         -4.8175e-01, -3.6812e-01, -2.4869e-01, -1.2533e-01, -2.4493e-16]))"
      ]
     },
     "execution_count": 35,
     "metadata": {},
     "output_type": "execute_result"
    }
   ],
   "source": [
    "x,y = dataset[0]\n",
    "x,y"
   ]
  },
  {
   "cell_type": "code",
   "execution_count": 36,
   "id": "540ee691-55ab-4c7b-9ee2-c23bf5b3819f",
   "metadata": {},
   "outputs": [
    {
     "name": "stdout",
     "output_type": "stream",
     "text": [
      "torch.Size([1, 50, 1])\n",
      "Predicted output: tensor([[ 0.1066,  0.1905,  0.2946,  0.4159,  0.5613,  0.6773,  0.7779,  0.8491,\n",
      "          0.8964,  0.9336,  0.9505,  0.9605,  0.9536,  0.9460,  0.9181,  0.8882,\n",
      "          0.8386,  0.7874,  0.7143,  0.6372,  0.5373,  0.4336,  0.3075,  0.1796,\n",
      "          0.0333, -0.1078, -0.2589, -0.3949, -0.5300, -0.6403, -0.7412, -0.8142,\n",
      "         -0.8769, -0.9167, -0.9499, -0.9659, -0.9753, -0.9694, -0.9547, -0.9261,\n",
      "         -0.8871, -0.8350, -0.7707, -0.6929, -0.6007, -0.4943, -0.3725, -0.2376,\n",
      "         -0.0893,  0.0664]])\n"
     ]
    }
   ],
   "source": [
    "\n",
    "x,y = dataset[0]\n",
    "x,y\n",
    "model.eval()\n",
    "with torch.no_grad():\n",
    "    x = x.unsqueeze(0).unsqueeze(-1)  \n",
    "    print(x.shape)  \n",
    "    # hidden_state = torch.zeros(x.size(0), 32)  \n",
    "    y_pred, _ = model(x)\n",
    "    y_pred = y_pred.squeeze(-1)\n",
    "print(\"Predicted output:\", y_pred)"
   ]
  },
  {
   "cell_type": "code",
   "execution_count": 37,
   "id": "f92f3416-5de5-429c-96df-87dc2b9fbdaf",
   "metadata": {},
   "outputs": [
    {
     "data": {
      "image/png": "[encoded data removed]",
      "text/plain": [
       "<Figure size 700x700 with 1 Axes>"
      ]
     },
     "metadata": {},
     "output_type": "display_data"
    }
   ],
   "source": [
    "plt.figure(figsize=(7,7))\n",
    "plt.plot(y, label='True')\n",
    "plt.plot(y_pred[0], label='Predicted')\n",
    "plt.legend()\n",
    "plt.show()\n"
   ]
  },
  {
   "cell_type": "code",
   "execution_count": null,
   "id": "8c8fcde0-1999-412d-92ec-8079f588c00c",
   "metadata": {},
   "outputs": [],
   "source": []
  },
  {
   "cell_type": "code",
   "execution_count": null,
   "id": "6d52b0d7-d731-4cce-9663-6a7c707b01ec",
   "metadata": {},
   "outputs": [],
   "source": []
  },
  {
   "cell_type": "code",
   "execution_count": null,
   "id": "6c4e3694-4621-4390-998e-3772c074763d",
   "metadata": {},
   "outputs": [],
   "source": []
  },
  {
   "cell_type": "code",
   "execution_count": null,
   "id": "35cf826a-b0ef-4731-901e-04204bb4456d",
   "metadata": {},
   "outputs": [],
   "source": []
  },
  {
   "cell_type": "code",
   "execution_count": null,
   "id": "67583964-611a-457e-8404-4060be037913",
   "metadata": {},
   "outputs": [],
   "source": []
  },
  {
   "cell_type": "code",
   "execution_count": null,
   "id": "fa81a6c0-55a9-4dc9-b7b2-65d66bd0bf4d",
   "metadata": {},
   "outputs": [],
   "source": []
  },
  {
   "cell_type": "code",
   "execution_count": null,
   "id": "87cee69d-cb89-445a-90d9-e6a81412525f",
   "metadata": {},
   "outputs": [],
   "source": []
  },
  {
   "cell_type": "code",
   "execution_count": null,
   "id": "e62f1581-5d95-4020-9906-e436bb41e5e3",
   "metadata": {},
   "outputs": [],
   "source": []
  },
  {
   "cell_type": "code",
   "execution_count": null,
   "id": "0e6e0fb6-4bc7-4f89-a0f4-3661a75ef3db",
   "metadata": {},
   "outputs": [],
   "source": []
  }
 ],
 "metadata": {
  "kernelspec": {
   "display_name": "Python 3 (ipykernel)",
   "language": "python",
   "name": "python3"
  },
  "language_info": {
   "codemirror_mode": {
    "name": "ipython",
    "version": 3
   },
   "file_extension": ".py",
   "mimetype": "text/x-python",
   "name": "python",
   "nbconvert_exporter": "python",
   "pygments_lexer": "ipython3",
   "version": "3.12.3"
  }
 },
 "nbformat": 4,
 "nbformat_minor": 5
}
