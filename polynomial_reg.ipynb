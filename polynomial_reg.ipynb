{
  "cells": [
    {
      "cell_type": "code",
      "execution_count": 1,
      "metadata": {
        "id": "N6j8FIWa82nS"
      },
      "outputs": [],
      "source": [
        "import pandas as pd\n",
        "import numpy as np\n",
        "import matplotlib.pyplot as plt"
      ]
    },
    {
      "cell_type": "code",
      "execution_count": 2,
      "metadata": {
        "id": "FCUqclNP9PLC"
      },
      "outputs": [],
      "source": [
        "data =  pd.read_csv(\"/content/drive/MyDrive/polynomialdata_train.csv\")\n"
      ]
    },
    {
      "cell_type": "code",
      "execution_count": null,
      "metadata": {
        "colab": {
          "base_uri": "https://localhost:8080/"
        },
        "id": "LeGZbok59TNg",
        "outputId": "4f7cca58-0eaa-45b0-973b-e864c4d27724"
      },
      "outputs": [
        {
          "output_type": "stream",
          "name": "stdout",
          "text": [
            "         target  feature 1  feature 2  feature 3\n",
            "0  4.131528e+06   5.221849   7.295111  95.716846\n",
            "1  3.172975e-01  -5.106284   4.220085  -6.172360\n",
            "2  4.676422e+04  -4.218053  -7.573823 -39.493884\n",
            "3  1.404175e+05 -18.439122  -2.275148 -40.885857\n",
            "4  4.788988e+03  13.353046   3.103837  18.622367\n"
          ]
        }
      ],
      "source": [
        "print(data.head())"
      ]
    },
    {
      "cell_type": "code",
      "execution_count": null,
      "metadata": {
        "colab": {
          "base_uri": "https://localhost:8080/"
        },
        "id": "6aKiIOyH0sbE",
        "outputId": "8a885ed2-524b-4257-e2a7-01962c259253"
      },
      "outputs": [
        {
          "output_type": "stream",
          "name": "stdout",
          "text": [
            "       Feature_1  Feature_2   Feature_3   Feature_4   Feature_5   Feature_6  \\\n",
            "40282  -4.411792  -4.364674  -36.161755   19.463907   19.256033   19.050378   \n",
            "31566  -7.543690  -4.048754  143.873072   56.907266   30.542550   16.392412   \n",
            "40070   3.142110  12.623881  -24.237856    9.872856   39.665626  159.362379   \n",
            "28003  24.379254   0.298607 -100.345640  594.348005    7.279825    0.089166   \n",
            "3296   30.958364   5.488828  -69.880759  958.420307  169.925149   30.127237   \n",
            "\n",
            "         Feature_7   Feature_8     Feature_9    Feature_10  ...    Feature_74  \\\n",
            "40282   159.538137  157.834271   1307.672557    -85.870706  ...  4.060631e+06   \n",
            "31566 -1085.333925 -582.506730  20699.460924   -429.290801  ... -1.278469e+09   \n",
            "40070   -76.158014 -305.975817    587.473663     31.021603  ... -4.417198e+05   \n",
            "28003 -2446.351795  -29.963946  10069.247397  14489.760729  ... -1.464053e+10   \n",
            "3296  -2163.393986 -383.563497   4883.320506  29671.124821  ... -1.012528e+10   \n",
            "\n",
            "         Feature_75    Feature_76    Feature_77    Feature_78    Feature_79  \\\n",
            "40282  4.017264e+06  3.974359e+06  3.931913e+06  3.328343e+07  3.292796e+07   \n",
            "31566 -6.861636e+08 -3.682691e+08 -1.976527e+08  2.438292e+10  1.308650e+10   \n",
            "40070 -1.774673e+06 -7.130005e+06 -2.864582e+07  3.407373e+06  1.368961e+07   \n",
            "28003 -1.793233e+08 -2.196428e+06 -2.690277e+04  6.026079e+10  7.380995e+08   \n",
            "3296  -1.795182e+09 -3.182806e+08 -5.643023e+07  2.285528e+10  4.052174e+09   \n",
            "\n",
            "         Feature_80    Feature_81    Feature_82    Feature_83  \n",
            "40282  3.257629e+07  2.728114e+08  2.698978e+08  2.236130e+09  \n",
            "31566  7.023619e+09 -4.650305e+11 -2.495853e+11  8.869050e+12  \n",
            "40070  5.499999e+07 -2.628406e+07 -1.056000e+08  2.027520e+08  \n",
            "28003  9.040554e+06 -2.480350e+11 -3.038037e+09  1.020918e+12  \n",
            "3296   7.184388e+08 -5.159007e+10 -9.146769e+09  1.164517e+11  \n",
            "\n",
            "[5 rows x 83 columns]\n"
          ]
        }
      ],
      "source": [
        "np.random.seed(6)\n",
        "data = data.iloc[np.random.permutation(len(data))]\n",
        "\n",
        "target = data.iloc[:, 0]\n",
        "df = data.iloc[:, 1:]  #features\n",
        "poly_df = pd.DataFrame()\n",
        "def gen_features(data , degree):\n",
        " poly_df = pd.DataFrame()\n",
        " for d in range(1 , degree + 1):\n",
        "  for i in range(d+1):\n",
        "    for j in range(d+1):\n",
        "      for k in range(d+1):\n",
        "        if i + j + k == d :\n",
        "          col_name = f\"Feature_{len(poly_df.columns) + 1}\"\n",
        "          poly_df[col_name] = df.iloc[:, 2]**(i)*df.iloc[: , 1]**(j)*df.iloc[: , 0]**(k)\n",
        "\n",
        " return poly_df\n",
        "features  = gen_features(data , degree = 6)\n",
        "\n",
        "\n",
        "print(features.head())"
      ]
    },
    {
      "cell_type": "code",
      "execution_count": null,
      "metadata": {
        "id": "xk5OIIgU9wxH"
      },
      "outputs": [],
      "source": [
        "# Conversion to arrays\n",
        "X = features.to_numpy()\n",
        "y = target.to_numpy()\n",
        "\n",
        "# Splitting\n",
        "test_size = 0.1 # 10% for both CV and Test\n",
        "\n",
        "split_index_train = int(len(features) * (1 - 2 * test_size))\n",
        "split_index_cv = int(len(features) * (1 - test_size))\n",
        "\n",
        "X_train = X[:split_index_train]\n",
        "y_train = y[:split_index_train]\n",
        "\n",
        "X_cv = X[split_index_train:split_index_cv]\n",
        "y_cv = y[split_index_train:split_index_cv]\n",
        "\n",
        "X_test = X[split_index_cv:]\n",
        "y_test = y[split_index_cv:]\n"
      ]
    },
    {
      "cell_type": "code",
      "execution_count": null,
      "metadata": {
        "id": "rnOSeNbP99i2"
      },
      "outputs": [],
      "source": [
        "def zscore(X):\n",
        "\n",
        "  mu = np.mean(X, axis = 0)\n",
        "  std = np.std(X, axis = 0)\n",
        "\n",
        "  X_norm = (X - mu)/std\n",
        "  return X_norm , mu , std\n",
        "\n",
        "X_train_norm, train_mu , train_std =  zscore(X_train)\n",
        "X_test_norm  =  (X_test - train_mu)/train_std\n",
        "X_cv_norm    =  (X_cv - train_mu)/train_std"
      ]
    },
    {
      "cell_type": "code",
      "execution_count": null,
      "metadata": {
        "id": "-XY58vkKyc_u"
      },
      "outputs": [],
      "source": [
        "def predict(X ,w ,b):\n",
        "  y = np.dot(X ,w) + b\n",
        "  return y"
      ]
    },
    {
      "cell_type": "code",
      "execution_count": null,
      "metadata": {
        "id": "JzA34GMU-BHY"
      },
      "outputs": [],
      "source": [
        "def compute_cost(X, y, W, b, reg_parameter):\n",
        "    m = X.shape[0]\n",
        "\n",
        "    f_wb = np.dot(X, W) + b\n",
        "\n",
        "    cost = np.sum((f_wb - y) ** 2) / (2 * m)\n",
        "    regularization_cost = (reg_parameter / (2 * m)) * np.sum(W ** 2)\n",
        "\n",
        "    total_cost = regularization_cost + cost\n",
        "    return total_cost"
      ]
    },
    {
      "cell_type": "code",
      "execution_count": null,
      "metadata": {
        "id": "XKkAoB5f-Cfx"
      },
      "outputs": [],
      "source": [
        "def compute_gradient(X, y, W, b, reg_parameter):\n",
        "    m = X.shape[0]\n",
        "\n",
        "\n",
        "    f_wb = np.dot(X, W) + b\n",
        "    errors = f_wb - y\n",
        "\n",
        "    dj_dw = np.dot(errors, X) / m\n",
        "    dj_db = np.sum(errors) / m\n",
        "\n",
        "    dj_dw += (reg_parameter / m) * W\n",
        "\n",
        "    return dj_dw, dj_db"
      ]
    },
    {
      "cell_type": "code",
      "execution_count": null,
      "metadata": {
        "id": "s6f9HnNz-D8P"
      },
      "outputs": [],
      "source": [
        "def gradient_descent(X, y, w_in, b_in, num_iters, alpha, reg_parameter):\n",
        "    W = w_in\n",
        "    b = b_in\n",
        "    J_history = []  #empty list to store cost at each iteration\n",
        "\n",
        "    for i in range(num_iters):\n",
        "        dj_dw, dj_db = compute_gradient(X, y, W, b, reg_parameter)\n",
        "        W -= alpha * dj_dw\n",
        "        b -= alpha * dj_db\n",
        "\n",
        "        if i % 1000 == 0:\n",
        "            cost = compute_cost(X, y, W, b, reg_parameter)\n",
        "            print(f\"Iteration {i}, Cost: {cost}\")\n",
        "            J_history.append(cost)\n",
        "\n",
        "\n",
        "    cost = compute_cost(X, y, W, b, reg_parameter)\n",
        "    print(f\"Iteration {num_iters}, Cost: {cost}\")\n",
        "    J_history.append(cost)\n",
        "\n",
        "    return W, b, J_history"
      ]
    },
    {
      "cell_type": "code",
      "execution_count": null,
      "metadata": {
        "colab": {
          "base_uri": "https://localhost:8080/"
        },
        "id": "UMAe5BNA-FZl",
        "outputId": "18a78b88-93b1-4dab-a42f-392054650016"
      },
      "outputs": [
        {
          "output_type": "stream",
          "name": "stdout",
          "text": [
            "Iteration 0, Cost: 35840524001390.57\n",
            "Iteration 1000, Cost: 15320453605.777798\n",
            "Iteration 2000, Cost: 1489308076.6595654\n",
            "Iteration 3000, Cost: 153042712.360057\n",
            "Iteration 4000, Cost: 16285135.525732594\n",
            "Iteration 5000, Cost: 1807299.6161469857\n",
            "Iteration 6000, Cost: 211014.46264631842\n",
            "Iteration 7000, Cost: 26076.67270073744\n",
            "Iteration 8000, Cost: 3413.6418235002557\n",
            "Iteration 9000, Cost: 471.13992266020875\n",
            "Iteration 10000, Cost: 67.96844554816363\n",
            "Iteration 11000, Cost: 10.148374648891057\n",
            "Iteration 12000, Cost: 1.5540509716040023\n",
            "Iteration 13000, Cost: 0.24228623274083239\n",
            "Iteration 14000, Cost: 0.038249344870972764\n",
            "Iteration 15000, Cost: 0.006090918868555491\n",
            "Iteration 16000, Cost: 0.0009757950354495607\n",
            "Iteration 17000, Cost: 0.00015698998775585818\n",
            "Iteration 18000, Cost: 2.5333371738905452e-05\n",
            "Iteration 19000, Cost: 4.096931227423143e-06\n",
            "Iteration 20000, Cost: 6.636163482804867e-07\n",
            "Iteration 21000, Cost: 1.0761949231171914e-07\n",
            "Iteration 22000, Cost: 1.746848539921188e-08\n",
            "Iteration 23000, Cost: 2.8374035644195994e-09\n",
            "Iteration 24000, Cost: 4.6114038250287215e-10\n",
            "Iteration 25000, Cost: 7.498140673374789e-11\n",
            "Iteration 26000, Cost: 1.2197801738109576e-11\n",
            "Iteration 27000, Cost: 1.984559451055795e-12\n",
            "Iteration 28000, Cost: 3.24292459766066e-13\n",
            "Iteration 29000, Cost: 5.4121204500720736e-14\n",
            "Iteration 30000, Cost: 1.0015605571419175e-14\n",
            "Iteration 31000, Cost: 2.7290551031478358e-15\n",
            "Iteration 32000, Cost: 1.4597176793784932e-15\n",
            "Iteration 33000, Cost: 1.2337302676279148e-15\n",
            "Iteration 34000, Cost: 1.1974463231616597e-15\n",
            "Iteration 35000, Cost: 1.1925246857514114e-15\n",
            "Iteration 36000, Cost: 1.1904942883877675e-15\n",
            "Iteration 37000, Cost: 1.1738956856189353e-15\n",
            "Iteration 38000, Cost: 1.1732319299248866e-15\n",
            "Iteration 39000, Cost: 1.1734707559166189e-15\n",
            "Iteration 40000, Cost: 1.1742600708820613e-15\n",
            "\n",
            "updated parameters: w:[-3.89745694e-09  2.82731302e-09 -2.37649178e-08 -8.34827545e-09\n",
            " -1.15663552e-09 -2.24703657e-09 -4.22404888e-08 -6.64117970e-09\n",
            " -1.19555290e-07 -2.28099719e-09 -3.60381302e-09 -1.05133656e-09\n",
            " -1.96939374e-10  8.69795997e-09 -6.32590944e-09 -7.93677723e-10\n",
            "  2.06247434e-08 -8.55871296e-09  3.43075420e-01  2.81385705e-09\n",
            " -1.51163884e-09 -2.07364280e-09 -3.62734656e-09  2.61477285e-03\n",
            "  2.15889070e-08  6.19676126e-09 -4.48904947e-09  1.23814494e-09\n",
            "  3.40771810e-08  1.02185839e-08  5.51566340e-09  1.02487404e-07\n",
            "  1.09724686e-08  2.69729472e-07  3.49171160e+01  1.46945130e-09\n",
            "  8.94509152e-10  6.11600172e-10  1.44430357e-09  4.81615023e-10\n",
            " -7.09206940e-10  2.76532000e-09  1.04814239e-09  7.60360595e-10\n",
            "  1.08373072e-09  1.52629966e-09  5.20130628e-09 -9.82918764e-11\n",
            " -1.70302046e-09 -1.38055496e-08  6.62746948e-09  1.49056182e-10\n",
            " -2.95686823e-08  9.10632887e-09 -6.48254623e-08  3.01268189e+04\n",
            "  1.05425122e+04  2.64900636e+03  5.66865996e+02  9.07400060e+01\n",
            "  1.13074047e+01  1.07023046e+00  1.22078946e+05  3.91866868e+04\n",
            "  1.04610798e+04  2.09088461e+03  2.89258401e+02  2.81170655e+01\n",
            "  4.13544880e+05  1.23799603e+05  2.88849994e+04  4.90298374e+03\n",
            "  5.49861242e+02  1.27282400e+06  3.24457817e+05  6.28484232e+04\n",
            "  8.46340726e+03  3.27455943e+06  6.66784492e+05  1.04430351e+05\n",
            "  6.70277655e+06  1.06093536e+06  9.01993742e+06], b:1788873.732245218\n",
            "\n",
            "cost = 1.1742600708820613e-15\n"
          ]
        }
      ],
      "source": [
        "w_in  = np.zeros(X.shape[1],)\n",
        "b_in  = 0.\n",
        "alph = 0.1\n",
        "iters = 40000\n",
        "\n",
        "W_out, b_out , cost = gradient_descent(X_train_norm, y_train, w_in, b_in,iters, alph , 0)\n",
        "print(f\"\\nupdated parameters: w:{W_out}, b:{b_out}\")\n",
        "print(f\"\\ncost = {cost[-1]}\")"
      ]
    },
    {
      "cell_type": "code",
      "execution_count": null,
      "metadata": {
        "id": "38ojGgw6Lhew",
        "colab": {
          "base_uri": "https://localhost:8080/",
          "height": 489
        },
        "outputId": "f4f32130-52ff-4cb0-9e48-2383aee4e352"
      },
      "outputs": [
        {
          "output_type": "execute_result",
          "data": {
            "text/plain": [
              "Text(0.5, 1.0, 'Cost vs No. Of Iterations')"
            ]
          },
          "metadata": {},
          "execution_count": 163
        },
        {
          "output_type": "display_data",
          "data": {
            "text/plain": [
              "<Figure size 640x480 with 1 Axes>"
            ],
            "image/png": "[encoded data removed]"
          },
          "metadata": {}
        }
      ],
      "source": [
        "plt.plot(range(0, 40001 ,1000) , cost)\n",
        "plt.xlabel(\"Number of iterations\")\n",
        "plt.ylabel(\"Cost\")\n",
        "plt.title(\"Cost vs No. Of Iterations\")"
      ]
    },
    {
      "cell_type": "code",
      "execution_count": null,
      "metadata": {
        "id": "iSu10LPd-J4u"
      },
      "outputs": [],
      "source": [
        "def r2score(y_train , y_pred):\n",
        "  sst = np.sum((y_train - np.mean(y_train))**2)\n",
        "  ssr = sum((y_train[i] - y_pred[i]) ** 2 for i in range(len(y_train)))\n",
        "  r2 = 1 - (ssr/sst)\n",
        "  return r2\n"
      ]
    },
    {
      "cell_type": "code",
      "execution_count": null,
      "metadata": {
        "colab": {
          "base_uri": "https://localhost:8080/"
        },
        "id": "mhUNQp9Wyg01",
        "outputId": "955a6332-8e46-4c3d-d34c-5cea1e39df42"
      },
      "outputs": [
        {
          "output_type": "stream",
          "name": "stdout",
          "text": [
            "Cost on training set : 1.1742600708820613e-15\n",
            "\n",
            "R2 score on training set : 1.0\n"
          ]
        }
      ],
      "source": [
        "y_pred_train = predict(X_train_norm , W_out , b_out)\n",
        "r2_train = r2score(y_train, y_pred_train)\n",
        "print(f'Cost on training set : {cost[-1]}')\n",
        "print(f\"\\nR2 score on training set : {r2_train}\")"
      ]
    },
    {
      "cell_type": "code",
      "execution_count": null,
      "metadata": {
        "id": "wDNYsihv-LNV",
        "colab": {
          "base_uri": "https://localhost:8080/"
        },
        "outputId": "bee5e49e-c3e2-4fd6-b9d8-6c3a00aa32a2"
      },
      "outputs": [
        {
          "output_type": "stream",
          "name": "stdout",
          "text": [
            "Cost on cross validation set = 7.420624551148468e-16\n",
            "\n",
            "R2 score on cross validation set : 1.0\n"
          ]
        }
      ],
      "source": [
        "cost_cv= compute_cost(X_cv_norm , y_cv , W_out ,b_out, 0)\n",
        "y_cv_pred = predict(X_cv_norm , W_out , b_out)\n",
        "r2_cv = r2score(y_cv, y_cv_pred)\n",
        "print(f'Cost on cross validation set = {cost_cv}')\n",
        "print(f'\\nR2 score on cross validation set : {r2_cv}')\n"
      ]
    },
    {
      "cell_type": "code",
      "execution_count": null,
      "metadata": {
        "id": "99Hi73gA6Mre",
        "colab": {
          "base_uri": "https://localhost:8080/"
        },
        "outputId": "37c60a42-dc16-44ad-980b-e21fdfb4d24a"
      },
      "outputs": [
        {
          "output_type": "stream",
          "name": "stdout",
          "text": [
            "Cost on test set = 1.3043303141224729e-15\n",
            "\n",
            "R2 score on test set: 1.0\n"
          ]
        }
      ],
      "source": [
        "cost_test = compute_cost(X_test_norm , y_test , W_out ,b_out , 0)\n",
        "y_test_pred = predict(X_test_norm , W_out , b_out)\n",
        "r2_test = r2score(y_test, y_test_pred)\n",
        "print(f'Cost on test set = {cost_test}')\n",
        "print(f'\\nR2 score on test set: {r2_test}')"
      ]
    },
    {
      "cell_type": "code",
      "source": [
        "test_data = pd.read_csv(\"/content/drive/MyDrive/Polynomialdata_test.csv\")\n",
        "test_data.head()"
      ],
      "metadata": {
        "id": "NdTxh_UbTwod",
        "colab": {
          "base_uri": "https://localhost:8080/",
          "height": 206
        },
        "outputId": "aecc43b7-cb18-4b5d-86c9-86f0cfe63945"
      },
      "execution_count": 3,
      "outputs": [
        {
          "output_type": "execute_result",
          "data": {
            "text/plain": [
              "      ID  feature 1  feature 2  feature 3\n",
              "0  16588  36.247643  -2.372704  43.835947\n",
              "1  17513   5.903779   5.460086 -96.149414\n",
              "2  14448 -37.298157   6.869786 -14.084487\n",
              "3  13972 -40.080077   2.395066 -43.432941\n",
              "4  18321 -20.417799  -2.194459   5.737226"
            ],
            "text/html": [
              "\n",
              "  <div id=\"df-5b12cbb6-a60b-466b-b8c6-b77451da14bd\" class=\"colab-df-container\">\n",
              "    <div>\n",
              "<style scoped>\n",
              "    .dataframe tbody tr th:only-of-type {\n",
              "        vertical-align: middle;\n",
              "    }\n",
              "\n",
              "    .dataframe tbody tr th {\n",
              "        vertical-align: top;\n",
              "    }\n",
              "\n",
              "    .dataframe thead th {\n",
              "        text-align: right;\n",
              "    }\n",
              "</style>\n",
              "<table border=\"1\" class=\"dataframe\">\n",
              "  <thead>\n",
              "    <tr style=\"text-align: right;\">\n",
              "      <th></th>\n",
              "      <th>ID</th>\n",
              "      <th>feature 1</th>\n",
              "      <th>feature 2</th>\n",
              "      <th>feature 3</th>\n",
              "    </tr>\n",
              "  </thead>\n",
              "  <tbody>\n",
              "    <tr>\n",
              "      <th>0</th>\n",
              "      <td>16588</td>\n",
              "      <td>36.247643</td>\n",
              "      <td>-2.372704</td>\n",
              "      <td>43.835947</td>\n",
              "    </tr>\n",
              "    <tr>\n",
              "      <th>1</th>\n",
              "      <td>17513</td>\n",
              "      <td>5.903779</td>\n",
              "      <td>5.460086</td>\n",
              "      <td>-96.149414</td>\n",
              "    </tr>\n",
              "    <tr>\n",
              "      <th>2</th>\n",
              "      <td>14448</td>\n",
              "      <td>-37.298157</td>\n",
              "      <td>6.869786</td>\n",
              "      <td>-14.084487</td>\n",
              "    </tr>\n",
              "    <tr>\n",
              "      <th>3</th>\n",
              "      <td>13972</td>\n",
              "      <td>-40.080077</td>\n",
              "      <td>2.395066</td>\n",
              "      <td>-43.432941</td>\n",
              "    </tr>\n",
              "    <tr>\n",
              "      <th>4</th>\n",
              "      <td>18321</td>\n",
              "      <td>-20.417799</td>\n",
              "      <td>-2.194459</td>\n",
              "      <td>5.737226</td>\n",
              "    </tr>\n",
              "  </tbody>\n",
              "</table>\n",
              "</div>\n",
              "    <div class=\"colab-df-buttons\">\n",
              "\n",
              "  <div class=\"colab-df-container\">\n",
              "    <button class=\"colab-df-convert\" onclick=\"convertToInteractive('df-5b12cbb6-a60b-466b-b8c6-b77451da14bd')\"\n",
              "            title=\"Convert this dataframe to an interactive table.\"\n",
              "            style=\"display:none;\">\n",
              "\n",
              "  <svg xmlns=\"http://www.w3.org/2000/svg\" height=\"24px\" viewBox=\"0 -960 960 960\">\n",
              "    <path d=\"M120-120v-720h720v720H120Zm60-500h600v-160H180v160Zm220 220h160v-160H400v160Zm0 220h160v-160H400v160ZM180-400h160v-160H180v160Zm440 0h160v-160H620v160ZM180-180h160v-160H180v160Zm440 0h160v-160H620v160Z\"/>\n",
              "  </svg>\n",
              "    </button>\n",
              "\n",
              "  <style>\n",
              "    .colab-df-container {\n",
              "      display:flex;\n",
              "      gap: 12px;\n",
              "    }\n",
              "\n",
              "    .colab-df-convert {\n",
              "      background-color: #E8F0FE;\n",
              "      border: none;\n",
              "      border-radius: 50%;\n",
              "      cursor: pointer;\n",
              "      display: none;\n",
              "      fill: #1967D2;\n",
              "      height: 32px;\n",
              "      padding: 0 0 0 0;\n",
              "      width: 32px;\n",
              "    }\n",
              "\n",
              "    .colab-df-convert:hover {\n",
              "      background-color: #E2EBFA;\n",
              "      box-shadow: 0px 1px 2px rgba(60, 64, 67, 0.3), 0px 1px 3px 1px rgba(60, 64, 67, 0.15);\n",
              "      fill: #174EA6;\n",
              "    }\n",
              "\n",
              "    .colab-df-buttons div {\n",
              "      margin-bottom: 4px;\n",
              "    }\n",
              "\n",
              "    [theme=dark] .colab-df-convert {\n",
              "      background-color: #3B4455;\n",
              "      fill: #D2E3FC;\n",
              "    }\n",
              "\n",
              "    [theme=dark] .colab-df-convert:hover {\n",
              "      background-color: #434B5C;\n",
              "      box-shadow: 0px 1px 3px 1px rgba(0, 0, 0, 0.15);\n",
              "      filter: drop-shadow(0px 1px 2px rgba(0, 0, 0, 0.3));\n",
              "      fill: #FFFFFF;\n",
              "    }\n",
              "  </style>\n",
              "\n",
              "    <script>\n",
              "      const buttonEl =\n",
              "        document.querySelector('#df-5b12cbb6-a60b-466b-b8c6-b77451da14bd button.colab-df-convert');\n",
              "      buttonEl.style.display =\n",
              "        google.colab.kernel.accessAllowed ? 'block' : 'none';\n",
              "\n",
              "      async function convertToInteractive(key) {\n",
              "        const element = document.querySelector('#df-5b12cbb6-a60b-466b-b8c6-b77451da14bd');\n",
              "        const dataTable =\n",
              "          await google.colab.kernel.invokeFunction('convertToInteractive',\n",
              "                                                    [key], {});\n",
              "        if (!dataTable) return;\n",
              "\n",
              "        const docLinkHtml = 'Like what you see? Visit the ' +\n",
              "          '<a target=\"_blank\" href=https://colab.research.google.com/notebooks/data_table.ipynb>data table notebook</a>'\n",
              "          + ' to learn more about interactive tables.';\n",
              "        element.innerHTML = '';\n",
              "        dataTable['output_type'] = 'display_data';\n",
              "        await google.colab.output.renderOutput(dataTable, element);\n",
              "        const docLink = document.createElement('div');\n",
              "        docLink.innerHTML = docLinkHtml;\n",
              "        element.appendChild(docLink);\n",
              "      }\n",
              "    </script>\n",
              "  </div>\n",
              "\n",
              "\n",
              "<div id=\"df-28d9b665-a15c-4f5b-9dd9-19c6da4f1f84\">\n",
              "  <button class=\"colab-df-quickchart\" onclick=\"quickchart('df-28d9b665-a15c-4f5b-9dd9-19c6da4f1f84')\"\n",
              "            title=\"Suggest charts\"\n",
              "            style=\"display:none;\">\n",
              "\n",
              "<svg xmlns=\"http://www.w3.org/2000/svg\" height=\"24px\"viewBox=\"0 0 24 24\"\n",
              "     width=\"24px\">\n",
              "    <g>\n",
              "        <path d=\"M19 3H5c-1.1 0-2 .9-2 2v14c0 1.1.9 2 2 2h14c1.1 0 2-.9 2-2V5c0-1.1-.9-2-2-2zM9 17H7v-7h2v7zm4 0h-2V7h2v10zm4 0h-2v-4h2v4z\"/>\n",
              "    </g>\n",
              "</svg>\n",
              "  </button>\n",
              "\n",
              "<style>\n",
              "  .colab-df-quickchart {\n",
              "      --bg-color: #E8F0FE;\n",
              "      --fill-color: #1967D2;\n",
              "      --hover-bg-color: #E2EBFA;\n",
              "      --hover-fill-color: #174EA6;\n",
              "      --disabled-fill-color: #AAA;\n",
              "      --disabled-bg-color: #DDD;\n",
              "  }\n",
              "\n",
              "  [theme=dark] .colab-df-quickchart {\n",
              "      --bg-color: #3B4455;\n",
              "      --fill-color: #D2E3FC;\n",
              "      --hover-bg-color: #434B5C;\n",
              "      --hover-fill-color: #FFFFFF;\n",
              "      --disabled-bg-color: #3B4455;\n",
              "      --disabled-fill-color: #666;\n",
              "  }\n",
              "\n",
              "  .colab-df-quickchart {\n",
              "    background-color: var(--bg-color);\n",
              "    border: none;\n",
              "    border-radius: 50%;\n",
              "    cursor: pointer;\n",
              "    display: none;\n",
              "    fill: var(--fill-color);\n",
              "    height: 32px;\n",
              "    padding: 0;\n",
              "    width: 32px;\n",
              "  }\n",
              "\n",
              "  .colab-df-quickchart:hover {\n",
              "    background-color: var(--hover-bg-color);\n",
              "    box-shadow: 0 1px 2px rgba(60, 64, 67, 0.3), 0 1px 3px 1px rgba(60, 64, 67, 0.15);\n",
              "    fill: var(--button-hover-fill-color);\n",
              "  }\n",
              "\n",
              "  .colab-df-quickchart-complete:disabled,\n",
              "  .colab-df-quickchart-complete:disabled:hover {\n",
              "    background-color: var(--disabled-bg-color);\n",
              "    fill: var(--disabled-fill-color);\n",
              "    box-shadow: none;\n",
              "  }\n",
              "\n",
              "  .colab-df-spinner {\n",
              "    border: 2px solid var(--fill-color);\n",
              "    border-color: transparent;\n",
              "    border-bottom-color: var(--fill-color);\n",
              "    animation:\n",
              "      spin 1s steps(1) infinite;\n",
              "  }\n",
              "\n",
              "  @keyframes spin {\n",
              "    0% {\n",
              "      border-color: transparent;\n",
              "      border-bottom-color: var(--fill-color);\n",
              "      border-left-color: var(--fill-color);\n",
              "    }\n",
              "    20% {\n",
              "      border-color: transparent;\n",
              "      border-left-color: var(--fill-color);\n",
              "      border-top-color: var(--fill-color);\n",
              "    }\n",
              "    30% {\n",
              "      border-color: transparent;\n",
              "      border-left-color: var(--fill-color);\n",
              "      border-top-color: var(--fill-color);\n",
              "      border-right-color: var(--fill-color);\n",
              "    }\n",
              "    40% {\n",
              "      border-color: transparent;\n",
              "      border-right-color: var(--fill-color);\n",
              "      border-top-color: var(--fill-color);\n",
              "    }\n",
              "    60% {\n",
              "      border-color: transparent;\n",
              "      border-right-color: var(--fill-color);\n",
              "    }\n",
              "    80% {\n",
              "      border-color: transparent;\n",
              "      border-right-color: var(--fill-color);\n",
              "      border-bottom-color: var(--fill-color);\n",
              "    }\n",
              "    90% {\n",
              "      border-color: transparent;\n",
              "      border-bottom-color: var(--fill-color);\n",
              "    }\n",
              "  }\n",
              "</style>\n",
              "\n",
              "  <script>\n",
              "    async function quickchart(key) {\n",
              "      const quickchartButtonEl =\n",
              "        document.querySelector('#' + key + ' button');\n",
              "      quickchartButtonEl.disabled = true;  // To prevent multiple clicks.\n",
              "      quickchartButtonEl.classList.add('colab-df-spinner');\n",
              "      try {\n",
              "        const charts = await google.colab.kernel.invokeFunction(\n",
              "            'suggestCharts', [key], {});\n",
              "      } catch (error) {\n",
              "        console.error('Error during call to suggestCharts:', error);\n",
              "      }\n",
              "      quickchartButtonEl.classList.remove('colab-df-spinner');\n",
              "      quickchartButtonEl.classList.add('colab-df-quickchart-complete');\n",
              "    }\n",
              "    (() => {\n",
              "      let quickchartButtonEl =\n",
              "        document.querySelector('#df-28d9b665-a15c-4f5b-9dd9-19c6da4f1f84 button');\n",
              "      quickchartButtonEl.style.display =\n",
              "        google.colab.kernel.accessAllowed ? 'block' : 'none';\n",
              "    })();\n",
              "  </script>\n",
              "</div>\n",
              "\n",
              "    </div>\n",
              "  </div>\n"
            ]
          },
          "metadata": {},
          "execution_count": 3
        }
      ]
    },
    {
      "cell_type": "code",
      "source": [
        "features  = gen_features(test_data , degree = 6)\n",
        "X = features.to_numpy()\n",
        "X = X - train_mu/train_std\n",
        "y_pred = predict(X , W_out ,b_out)"
      ],
      "metadata": {
        "id": "gAURbdMhVdXW"
      },
      "execution_count": null,
      "outputs": []
    }
  ],
  "metadata": {
    "colab": {
      "provenance": []
    },
    "kernelspec": {
      "display_name": "Python 3",
      "name": "python3"
    },
    "language_info": {
      "name": "python"
    }
  },
  "nbformat": 4,
  "nbformat_minor": 0
}